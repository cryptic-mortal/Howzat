{
 "cells": [
  {
   "cell_type": "code",
   "execution_count": 4,
   "id": "28fbe847-bd98-4f20-881c-623095af85cf",
   "metadata": {},
   "outputs": [],
   "source": [
    "import pandas as pd\n",
    "import numpy as np\n",
    "import requests\n",
    "from bs4 import BeautifulSoup\n",
    "from urllib.parse import urljoin\n",
    "from selenium import webdriver"
   ]
  },
  {
   "cell_type": "markdown",
   "id": "0fa573ba-fe5d-488a-8d1d-c138db1a939e",
   "metadata": {},
   "source": [
    "# Manthan's Data"
   ]
  },
  {
   "cell_type": "code",
   "execution_count": 6,
   "id": "4048a417-72ea-4d46-9dad-e0d65bcb6405",
   "metadata": {},
   "outputs": [
    {
     "name": "stdout",
     "output_type": "stream",
     "text": [
      "200\n"
     ]
    }
   ],
   "source": [
    "headers = {\n",
    "    \"User-Agent\": \"Mozilla/5.0 (Windows NT 10.0; Win64; x64) AppleWebKit/537.36 (KHTML, like Gecko) Chrome/120.0.0.0 Safari/537.36\",\n",
    "    \"Accept-Language\": \"en-US,en;q=0.9\",\n",
    "}\n",
    "base_url = 'https://www.espncricinfo.com/series/ipl-2016-968923/match-schedule-fixtures-and-results'\n",
    "s16 = requests.get(base_url,headers=headers)\n",
    "print(s16.status_code)\n",
    "soup = BeautifulSoup(s16.text,'html.parser')"
   ]
  },
  {
   "cell_type": "code",
   "execution_count": 7,
   "id": "a5f51e91-1a90-4b59-9266-dc289d9e1f9d",
   "metadata": {
    "scrolled": true
   },
   "outputs": [
    {
     "data": {
      "text/plain": [
       "['https://www.espncricinfo.com/series/ipl-2016-968923/mumbai-indians-vs-rising-pune-supergiants-1st-match-980901/live-cricket-score',\n",
       " 'https://www.espncricinfo.com/series/ipl-2016-968923/kolkata-knight-riders-vs-delhi-daredevils-2nd-match-980903/live-cricket-score',\n",
       " 'https://www.espncricinfo.com/series/ipl-2016-968923/kings-xi-punjab-vs-gujarat-lions-3rd-match-980905/live-cricket-score',\n",
       " 'https://www.espncricinfo.com/series/ipl-2016-968923/royal-challengers-bangalore-vs-sunrisers-hyderabad-4th-match-980907/live-cricket-score',\n",
       " 'https://www.espncricinfo.com/series/ipl-2016-968923/kolkata-knight-riders-vs-mumbai-indians-5th-match-980909/live-cricket-score',\n",
       " 'https://www.espncricinfo.com/series/ipl-2016-968923/gujarat-lions-vs-rising-pune-supergiants-6th-match-980911/live-cricket-score',\n",
       " 'https://www.espncricinfo.com/series/ipl-2016-968923/delhi-daredevils-vs-kings-xi-punjab-7th-match-980913/live-cricket-score',\n",
       " 'https://www.espncricinfo.com/series/ipl-2016-968923/sunrisers-hyderabad-vs-kolkata-knight-riders-8th-match-980915/live-cricket-score',\n",
       " 'https://www.espncricinfo.com/series/ipl-2016-968923/mumbai-indians-vs-gujarat-lions-9th-match-980917/live-cricket-score',\n",
       " 'https://www.espncricinfo.com/series/ipl-2016-968923/kings-xi-punjab-vs-rising-pune-supergiants-10th-match-980919/live-cricket-score',\n",
       " 'https://www.espncricinfo.com/series/ipl-2016-968923/royal-challengers-bangalore-vs-delhi-daredevils-11th-match-980921/live-cricket-score',\n",
       " 'https://www.espncricinfo.com/series/ipl-2016-968923/sunrisers-hyderabad-vs-mumbai-indians-12th-match-980923/live-cricket-score',\n",
       " 'https://www.espncricinfo.com/series/ipl-2016-968923/kings-xi-punjab-vs-kolkata-knight-riders-13th-match-980925/live-cricket-score',\n",
       " 'https://www.espncricinfo.com/series/ipl-2016-968923/mumbai-indians-vs-royal-challengers-bangalore-14th-match-980927/live-cricket-score',\n",
       " 'https://www.espncricinfo.com/series/ipl-2016-968923/gujarat-lions-vs-sunrisers-hyderabad-15th-match-980929/live-cricket-score',\n",
       " 'https://www.espncricinfo.com/series/ipl-2016-968923/rising-pune-supergiants-vs-royal-challengers-bangalore-16th-match-980931/live-cricket-score',\n",
       " 'https://www.espncricinfo.com/series/ipl-2016-968923/delhi-daredevils-vs-mumbai-indians-17th-match-980933/live-cricket-score',\n",
       " 'https://www.espncricinfo.com/series/ipl-2016-968923/sunrisers-hyderabad-vs-kings-xi-punjab-18th-match-980935/live-cricket-score',\n",
       " 'https://www.espncricinfo.com/series/ipl-2016-968923/gujarat-lions-vs-royal-challengers-bangalore-19th-match-980937/live-cricket-score',\n",
       " 'https://www.espncricinfo.com/series/ipl-2016-968923/rising-pune-supergiants-vs-kolkata-knight-riders-20th-match-980939/live-cricket-score',\n",
       " 'https://www.espncricinfo.com/series/ipl-2016-968923/kings-xi-punjab-vs-mumbai-indians-21st-match-980941/live-cricket-score',\n",
       " 'https://www.espncricinfo.com/series/ipl-2016-968923/sunrisers-hyderabad-vs-rising-pune-supergiants-22nd-match-980943/live-cricket-score',\n",
       " 'https://www.espncricinfo.com/series/ipl-2016-968923/delhi-daredevils-vs-gujarat-lions-23rd-match-980945/live-cricket-score',\n",
       " 'https://www.espncricinfo.com/series/ipl-2016-968923/mumbai-indians-vs-kolkata-knight-riders-24th-match-980947/live-cricket-score',\n",
       " 'https://www.espncricinfo.com/series/ipl-2016-968923/rising-pune-supergiants-vs-gujarat-lions-25th-match-980949/live-cricket-score',\n",
       " 'https://www.espncricinfo.com/series/ipl-2016-968923/delhi-daredevils-vs-kolkata-knight-riders-26th-match-980951/live-cricket-score',\n",
       " 'https://www.espncricinfo.com/series/ipl-2016-968923/sunrisers-hyderabad-vs-royal-challengers-bangalore-27th-match-980953/live-cricket-score',\n",
       " 'https://www.espncricinfo.com/series/ipl-2016-968923/gujarat-lions-vs-kings-xi-punjab-28th-match-980955/live-cricket-score',\n",
       " 'https://www.espncricinfo.com/series/ipl-2016-968923/rising-pune-supergiants-vs-mumbai-indians-29th-match-980957/live-cricket-score',\n",
       " 'https://www.espncricinfo.com/series/ipl-2016-968923/royal-challengers-bangalore-vs-kolkata-knight-riders-30th-match-980959/live-cricket-score',\n",
       " 'https://www.espncricinfo.com/series/ipl-2016-968923/gujarat-lions-vs-delhi-daredevils-31st-match-980961/live-cricket-score',\n",
       " 'https://www.espncricinfo.com/series/ipl-2016-968923/kolkata-knight-riders-vs-kings-xi-punjab-32nd-match-980963/live-cricket-score',\n",
       " 'https://www.espncricinfo.com/series/ipl-2016-968923/delhi-daredevils-vs-rising-pune-supergiants-33rd-match-980965/live-cricket-score',\n",
       " 'https://www.espncricinfo.com/series/ipl-2016-968923/sunrisers-hyderabad-vs-gujarat-lions-34th-match-980967/live-cricket-score',\n",
       " 'https://www.espncricinfo.com/series/ipl-2016-968923/royal-challengers-bangalore-vs-rising-pune-supergiants-35th-match-980969/live-cricket-score',\n",
       " 'https://www.espncricinfo.com/series/ipl-2016-968923/kings-xi-punjab-vs-delhi-daredevils-36th-match-980971/live-cricket-score',\n",
       " 'https://www.espncricinfo.com/series/ipl-2016-968923/mumbai-indians-vs-sunrisers-hyderabad-37th-match-980973/live-cricket-score',\n",
       " 'https://www.espncricinfo.com/series/ipl-2016-968923/kolkata-knight-riders-vs-gujarat-lions-38th-match-980975/live-cricket-score',\n",
       " 'https://www.espncricinfo.com/series/ipl-2016-968923/kings-xi-punjab-vs-royal-challengers-bangalore-39th-match-980977/live-cricket-score',\n",
       " 'https://www.espncricinfo.com/series/ipl-2016-968923/rising-pune-supergiants-vs-sunrisers-hyderabad-40th-match-980979/live-cricket-score',\n",
       " 'https://www.espncricinfo.com/series/ipl-2016-968923/royal-challengers-bangalore-vs-mumbai-indians-41st-match-980981/live-cricket-score',\n",
       " 'https://www.espncricinfo.com/series/ipl-2016-968923/sunrisers-hyderabad-vs-delhi-daredevils-42nd-match-980983/live-cricket-score',\n",
       " 'https://www.espncricinfo.com/series/ipl-2016-968923/mumbai-indians-vs-kings-xi-punjab-43rd-match-980985/live-cricket-score',\n",
       " 'https://www.espncricinfo.com/series/ipl-2016-968923/royal-challengers-bangalore-vs-gujarat-lions-44th-match-980987/live-cricket-score',\n",
       " 'https://www.espncricinfo.com/series/ipl-2016-968923/kolkata-knight-riders-vs-rising-pune-supergiants-45th-match-980989/live-cricket-score',\n",
       " 'https://www.espncricinfo.com/series/ipl-2016-968923/kings-xi-punjab-vs-sunrisers-hyderabad-46th-match-980991/live-cricket-score',\n",
       " 'https://www.espncricinfo.com/series/ipl-2016-968923/mumbai-indians-vs-delhi-daredevils-47th-match-980993/live-cricket-score',\n",
       " 'https://www.espncricinfo.com/series/ipl-2016-968923/kolkata-knight-riders-vs-royal-challengers-bangalore-48th-match-980995/live-cricket-score',\n",
       " 'https://www.espncricinfo.com/series/ipl-2016-968923/rising-pune-supergiants-vs-delhi-daredevils-49th-match-980997/live-cricket-score',\n",
       " 'https://www.espncricinfo.com/series/ipl-2016-968923/royal-challengers-bangalore-vs-kings-xi-punjab-50th-match-980999/live-cricket-score',\n",
       " 'https://www.espncricinfo.com/series/ipl-2016-968923/gujarat-lions-vs-kolkata-knight-riders-51st-match-981001/live-cricket-score',\n",
       " 'https://www.espncricinfo.com/series/ipl-2016-968923/delhi-daredevils-vs-sunrisers-hyderabad-52nd-match-981003/live-cricket-score',\n",
       " 'https://www.espncricinfo.com/series/ipl-2016-968923/rising-pune-supergiants-vs-kings-xi-punjab-53rd-match-981005/live-cricket-score',\n",
       " 'https://www.espncricinfo.com/series/ipl-2016-968923/gujarat-lions-vs-mumbai-indians-54th-match-981007/live-cricket-score',\n",
       " 'https://www.espncricinfo.com/series/ipl-2016-968923/kolkata-knight-riders-vs-sunrisers-hyderabad-55th-match-981009/live-cricket-score',\n",
       " 'https://www.espncricinfo.com/series/ipl-2016-968923/delhi-daredevils-vs-royal-challengers-bangalore-56th-match-981011/live-cricket-score',\n",
       " 'https://www.espncricinfo.com/series/ipl-2016-968923/royal-challengers-bangalore-vs-gujarat-lions-qualifier-1-981013/live-cricket-score',\n",
       " 'https://www.espncricinfo.com/series/ipl-2016-968923/kolkata-knight-riders-vs-sunrisers-hyderabad-eliminator-981015/live-cricket-score',\n",
       " 'https://www.espncricinfo.com/series/ipl-2016-968923/gujarat-lions-vs-sunrisers-hyderabad-qualifier-2-981017/live-cricket-score',\n",
       " 'https://www.espncricinfo.com/series/ipl-2016-968923/royal-challengers-bangalore-vs-sunrisers-hyderabad-final-981019/live-cricket-score']"
      ]
     },
     "execution_count": 7,
     "metadata": {},
     "output_type": "execute_result"
    }
   ],
   "source": [
    "s16m = []\n",
    "anchors = soup.find_all('a',class_='ds-inline-flex ds-items-start ds-leading-none')\n",
    "for anchor in anchors :\n",
    "    link = anchor.get('href')\n",
    "    link = urljoin(base_url,link)\n",
    "    if 'live-cricket-score' in link :\n",
    "        s16m.append(link)\n",
    "s16m"
   ]
  },
  {
   "cell_type": "markdown",
   "id": "86eb2687-bf84-474d-96d0-51ff47fcc37f",
   "metadata": {},
   "source": [
    "Columns to fill\n",
    "1. Match type\n",
    "2. POTM\n",
    "3. Venue\n",
    "4. Team1\n",
    "5. Team2\n",
    "6. Toss Winner\n",
    "7. Toss Decision\n",
    "8. Winner\n",
    "9. Win margin\n",
    "10. Result type(number of wickets left or run difference)\n",
    "11. Target runs"
   ]
  },
  {
   "cell_type": "code",
   "execution_count": 9,
   "id": "7b76939b-451c-4c78-9b51-4b8ea4c62f89",
   "metadata": {},
   "outputs": [],
   "source": [
    "match_data = {\n",
    "        'Match Type': '',\n",
    "        'POTM': '',\n",
    "        'Venue': '',\n",
    "        'Team1': '',\n",
    "        'Team2': '',\n",
    "        'Toss_Winner': '',\n",
    "        'Toss_Decision': '',\n",
    "        'Winner': '',\n",
    "        'Win_Margin': '',\n",
    "        'Result_Type': '',\n",
    "        'Target_Runs': ''\n",
    "}"
   ]
  },
  {
   "cell_type": "markdown",
   "id": "1bef4f44-6cbc-4dc2-afc1-bcecac865d46",
   "metadata": {},
   "source": [
    "## Match Type, Venue and POTM"
   ]
  },
  {
   "cell_type": "code",
   "execution_count": 11,
   "id": "28d70354-6c24-45a9-94d9-3b46da23c0d0",
   "metadata": {},
   "outputs": [
    {
     "name": "stdout",
     "output_type": "stream",
     "text": [
      "200\n"
     ]
    }
   ],
   "source": [
    "match = requests.get(s16m[0],headers=headers)\n",
    "print(match.status_code)\n",
    "soup_match = BeautifulSoup(match.text,'html.parser')"
   ]
  },
  {
   "cell_type": "code",
   "execution_count": 12,
   "id": "bae14f48-8401-45db-998e-03a4ba1a57f8",
   "metadata": {},
   "outputs": [],
   "source": [
    "driver = webdriver.Chrome()\n",
    "driver.get(s16m[0])\n",
    "\n",
    "html = driver.page_source\n",
    "soup = BeautifulSoup(html, 'lxml')\n",
    "\n",
    "elements = soup.find_all('div', class_='ds-text-tight-m ds-font-regular ds-text-typo-mid3')[0].get_text(strip=True)\n",
    "potmscrape = soup.find_all('span', class_='ds-text-tight-m ds-font-medium ds-text-typo ds-underline ds-decoration-ui-stroke hover:ds-text-typo-primary hover:ds-decoration-ui-stroke-primary ds-block ds-cursor-pointer')[0].get_text(strip=True)\n",
    "teamscrape = soup.find_all('span',class_='ds-text-tight-l ds-font-bold ds-text-typo hover:ds-text-typo-primary ds-block ds-truncate')\n",
    "tossscrape = soup.find_all('td',class_='ds-text-typo')[0].find('span',class_='ds-text-tight-s ds-font-regular').get_text(strip=True)\n",
    "\n",
    "driver.quit()"
   ]
  },
  {
   "cell_type": "code",
   "execution_count": 13,
   "id": "ababd017-814b-4f02-8935-eab9e5a0c001",
   "metadata": {},
   "outputs": [],
   "source": [
    "venue = elements.split(',')[1].strip()\n",
    "match_data['Venue'] = venue\n",
    "\n",
    "matching_word = next((word for word in ['Final','Qualifier','Eliminator'] if word in elements), None)\n",
    "\n",
    "if matching_word:\n",
    "    match_data['Match Type'] = matching_word\n",
    "else:\n",
    "    match_data['Match Type'] = 'League'\n",
    "match_data['POTM'] = potmscrape"
   ]
  },
  {
   "cell_type": "markdown",
   "id": "93c31e47-aa7f-4a42-9802-a837c9f66bf8",
   "metadata": {},
   "source": [
    "## Teams"
   ]
  },
  {
   "cell_type": "code",
   "execution_count": 15,
   "id": "56cd610d-f52d-41b6-a55b-bad2923e35aa",
   "metadata": {},
   "outputs": [
    {
     "data": {
      "text/plain": [
       "{'Match Type': 'League',\n",
       " 'POTM': 'Ajinkya Rahane',\n",
       " 'Venue': 'Wankhede',\n",
       " 'Team1': 'MI',\n",
       " 'Team2': 'RPS',\n",
       " 'Toss_Winner': '',\n",
       " 'Toss_Decision': '',\n",
       " 'Winner': '',\n",
       " 'Win_Margin': '',\n",
       " 'Result_Type': '',\n",
       " 'Target_Runs': ''}"
      ]
     },
     "execution_count": 15,
     "metadata": {},
     "output_type": "execute_result"
    }
   ],
   "source": [
    "match_data['Team1'] = teamscrape[0].get_text(strip=True)\n",
    "match_data['Team2'] = teamscrape[1].get_text(strip=True)"
   ]
  },
  {
   "cell_type": "markdown",
   "id": "5459becb-473d-41ea-9244-cc3ba4b0eed7",
   "metadata": {},
   "source": [
    "## Toss Winner and Decision"
   ]
  },
  {
   "cell_type": "code",
   "execution_count": 32,
   "id": "e1824a6c-fcae-43c0-8156-6405973f311d",
   "metadata": {},
   "outputs": [
    {
     "data": {
      "text/plain": [
       "{'Match Type': 'League',\n",
       " 'POTM': 'Ajinkya Rahane',\n",
       " 'Venue': 'Wankhede',\n",
       " 'Team1': 'MI',\n",
       " 'Team2': 'RPS',\n",
       " 'Toss_Winner': 'Mumbai Indians',\n",
       " 'Toss_Decision': 'bat',\n",
       " 'Winner': '',\n",
       " 'Win_Margin': '',\n",
       " 'Result_Type': '',\n",
       " 'Target_Runs': ''}"
      ]
     },
     "execution_count": 32,
     "metadata": {},
     "output_type": "execute_result"
    }
   ],
   "source": [
    "match_data['Toss_Winner'] = toss.split(',')[0]\n",
    "if 'bat' in toss :    \n",
    "    match_data['Toss_Decision'] = 'bat'\n",
    "else :\n",
    "    match_data['Toss_Decision'] = 'field'\n",
    "match_data"
   ]
  },
  {
   "cell_type": "code",
   "execution_count": null,
   "id": "5760f794-50bb-4037-ad01-098e52b460f1",
   "metadata": {},
   "outputs": [],
   "source": []
  }
 ],
 "metadata": {
  "kernelspec": {
   "display_name": "Python [conda env:base] *",
   "language": "python",
   "name": "conda-base-py"
  },
  "language_info": {
   "codemirror_mode": {
    "name": "ipython",
    "version": 3
   },
   "file_extension": ".py",
   "mimetype": "text/x-python",
   "name": "python",
   "nbconvert_exporter": "python",
   "pygments_lexer": "ipython3",
   "version": "3.12.7"
  }
 },
 "nbformat": 4,
 "nbformat_minor": 5
}
