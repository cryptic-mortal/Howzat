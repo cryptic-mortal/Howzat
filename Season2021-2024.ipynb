{
 "cells": [
  {
   "cell_type": "markdown",
   "id": "88611d67-038f-43d1-bf64-77efbda08358",
   "metadata": {},
   "source": [
    "# PUSHPENDRA"
   ]
  },
  {
   "cell_type": "code",
   "execution_count": 1,
   "id": "01b1c066-cfca-4099-bcc6-aeadab821571",
   "metadata": {},
   "outputs": [],
   "source": [
    "import requests as rq\n",
    "import pandas as pd\n",
    "import numpy as np\n",
    "from bs4 import BeautifulSoup as bs\n",
    "from selenium import webdriver\n",
    "from selenium.webdriver.common.by import By\n",
    "from selenium.webdriver.support.select import Select\n",
    "from webdriver_manager.chrome import ChromeDriverManager\n",
    "from selenium.webdriver.chrome.service import Service\n",
    "from selenium.webdriver.common.alert import Alert"
   ]
  },
  {
   "cell_type": "code",
   "execution_count": 2,
   "id": "7250ae08-aeb1-4c5e-9de3-ce3b2e70fd65",
   "metadata": {},
   "outputs": [],
   "source": [
    "headers = {\n",
    "    \"User-Agent\": \"Mozilla/5.0 (Windows NT 10.0; Win64; x64) AppleWebKit/537.36 (KHTML, like Gecko) Chrome/120.0.0.0 Safari/537.36\",\n",
    "    \"Accept-Language\": \"en-US,en;q=0.9\",\n",
    "}\n"
   ]
  },
  {
   "cell_type": "code",
   "execution_count": 3,
   "id": "ea52188d-c125-43dd-ac4a-bc95407e3684",
   "metadata": {},
   "outputs": [],
   "source": [
    "Short=[\"DC\",\"SRH\",\"PKBS\",\"MI\",\"CSK\",\"KKR\",\"RR\",\"RCB\",\"LSG\",\"GT\"]\n",
    "type_match=[\"League (N)\",\"Final (N)\",\"Qualifier 2 (N)\",\"Eliminator (N)\",\"Qualifier 1 (N)\"]\n",
    "# url[1]"
   ]
  },
  {
   "cell_type": "code",
   "execution_count": 4,
   "id": "c3064197-9660-4a37-bbb0-cecf1d139683",
   "metadata": {},
   "outputs": [],
   "source": [
    "url=[\"https://www.espncricinfo.com/series/ipl-2021-1249214/match-schedule-fixtures-and-results\",\"https://www.espncricinfo.com/series/indian-premier-league-2022-1298423/match-schedule-fixtures-and-results\",\"https://www.espncricinfo.com/series/indian-premier-league-2023-1345038/match-schedule-fixtures-and-results\",\"https://www.espncricinfo.com/series/indian-premier-league-2024-1410320/match-schedule-fixtures-and-results\"]"
   ]
  },
  {
   "cell_type": "code",
   "execution_count": 13,
   "id": "e280fc8a-e313-40b0-b231-aac20444b1a0",
   "metadata": {},
   "outputs": [
    {
     "data": {
      "text/plain": [
       "282"
      ]
     },
     "execution_count": 13,
     "metadata": {},
     "output_type": "execute_result"
    }
   ],
   "source": [
    "match_list=[]\n",
    "base_url=\"https://www.espncricinfo.com/\"\n",
    "for u in url:\n",
    "    res=rq.get(u,headers=headers)\n",
    "    # print(res.status_code)\n",
    "    soup =bs(res.text,'html.parser')\n",
    "    anchor=soup.find_all(\"a\",class_=\"ds-inline-flex ds-items-start ds-leading-none\")\n",
    "    for a  in anchor:\n",
    "        link=a.get(\"href\")\n",
    "        if link and \"live-cricket-score\"in link:\n",
    "            match_list.append(base_url+link)\n",
    "len(match_list)         "
   ]
  },
  {
   "cell_type": "code",
   "execution_count": 8,
   "id": "7a9d9315-c3a2-42ef-89be-b6c271e45acc",
   "metadata": {},
   "outputs": [],
   "source": [
    "match_data = {\n",
    "        'Match Type':[],\n",
    "        'POTM': [],\n",
    "        'Venue': [],\n",
    "        'Team1': [],\n",
    "        'Team2': [],\n",
    "        'Toss_Winner':[],\n",
    "        'Toss_Decision': [],\n",
    "        'Winner': [],\n",
    "        'Win_Margin':[],\n",
    "        'Result_Type': [],\n",
    "        'Target_Runs': [],\n",
    "         'Match':[],\n",
    "         'Season':[]\n",
    "}\n"
   ]
  },
  {
   "cell_type": "code",
   "execution_count": null,
   "id": "5d0bea21-2f8b-4258-ac46-d270482e2fa4",
   "metadata": {},
   "outputs": [
    {
     "name": "stdout",
     "output_type": "stream",
     "text": [
      "Total matches found: 282\n",
      "Total matches in DataFrame: 278\n"
     ]
    }
   ],
   "source": [
    "\n",
    "match_data = {\n",
    "    \"Match Type\": [],\n",
    "    \"Result_Type\": [],\n",
    "    \"POTM\": [],\n",
    "    \"Venue\": [],\n",
    "    \"Team1\": [],\n",
    "    \"Team2\": [],\n",
    "    \"Toss_Winner\": [],\n",
    "    \"Toss_Decision\": [],\n",
    "    \"Winner\": [],\n",
    "    \"Win_Margin\": [],\n",
    "    \"Target_Runs\": [],\n",
    "    \"Match\": [],\n",
    "    \"Season\": []\n",
    "}\n",
    "\n",
    "# Define type_match and Short if not already defined\n",
    "type_match = [\"Qualifier 1 (N)\", \"Eliminator (N)\", \"Qualifier 2 (N)\", \"Final (N)\"]\n",
    "Short = [\"KKR\", \"RCB\", \"MI\", \"CSK\", \"SRH\", \"RR\", \"DC\", \"PBKS\"]\n",
    "\n",
    "j = 1\n",
    "ses = 2021\n",
    "for match in match_list:\n",
    "    mat_res = rq.get(match, headers=headers)\n",
    "    soup = bs(mat_res.text, 'html.parser')\n",
    "    team = soup.find_all(\"span\", class_=\"ds-text-tight-l ds-font-bold ds-text-typo hover:ds-text-typo-primary ds-block ds-truncate\")\n",
    "    team = [t.text.strip() for t in team]\n",
    "    temp = soup.find(\"div\", class_=\"ds-text-tight-m ds-font-regular ds-text-typo-mid3\")\n",
    "    temp = temp.text.strip().split(sep=\",\")\n",
    "    venue = temp[1]\n",
    "    match_type = temp[0]\n",
    "    if match_type not in type_match:\n",
    "        match_type = \"League (N)\"\n",
    "    Runs_t = soup.find_all(\"div\", class_=\"ds-py-2 ds-px-3 ds-border-b ds-border-line ds-uppercase ds-flex ds-justify-between\")\n",
    "    if len(Runs_t) < 2:\n",
    "        continue \n",
    "    target = int(Runs_t[0].find_all(\"strong\")[1].text.strip().split('/')[0].split()[1]) + 1\n",
    "    wicket_2 = int(Runs_t[1].find_all(\"strong\")[1].text.strip().split('/')[1])\n",
    "    T2_run = int(Runs_t[1].find_all(\"strong\")[1].text.strip().split('/')[0].split()[1])\n",
    "    Result = soup.find(\"p\", class_=\"ds-text-tight-s ds-font-medium ds-truncate ds-text-typo\").text.strip()\n",
    "    if T2_run >= target:\n",
    "        winner = team[1]\n",
    "        win_margin = f\"{10 - wicket_2} Wickets\"\n",
    "        result_type = \"Wickets\"\n",
    "    elif T2_run < target - 1:\n",
    "        winner = team[0]\n",
    "        win_margin = f\"{target - 1 - T2_run} Runs\"\n",
    "        result_type = \"Runs\"\n",
    "    else:\n",
    "        for i in Result:\n",
    "            if i in Short:\n",
    "                winner = i\n",
    "                break\n",
    "        result_type = \"Draw\"\n",
    "        win_margin = 0\n",
    "    potm = soup.find(\"span\", class_=\"ds-text-tight-m ds-font-medium ds-text-typo ds-underline ds-decoration-ui-stroke hover:ds-text-typo-primary hover:ds-decoration-ui-stroke-primary ds-block ds-cursor-pointer\").text.strip()\n",
    "    toss = soup.find(\"span\", class_=\"ds-text-tight-s ds-font-regular\").text.strip()\n",
    "    for i in range(2):\n",
    "        if team[i] in toss:\n",
    "            toss_winner = team[i]\n",
    "        if \"field\" in toss:\n",
    "            toss_decision = \"Field_First\"\n",
    "        else:\n",
    "            toss_decision = \"Bat_First\"\n",
    "    match_data[\"Match Type\"].append(match_type)\n",
    "    match_data[\"Result_Type\"].append(result_type)\n",
    "    match_data[\"POTM\"].append(potm)\n",
    "    match_data[\"Venue\"].append(venue)\n",
    "    match_data[\"Team1\"].append(team[0])\n",
    "    match_data[\"Team2\"].append(team[1])\n",
    "    match_data[\"Toss_Winner\"].append(toss_winner)\n",
    "    match_data[\"Toss_Decision\"].append(toss_decision)\n",
    "    match_data[\"Winner\"].append(winner)\n",
    "    match_data[\"Win_Margin\"].append(win_margin)\n",
    "    match_data[\"Target_Runs\"].append(target)\n",
    "    match_data[\"Match\"].append(j)\n",
    "    match_data[\"Season\"].append(ses)\n",
    "    j += 1\n",
    "    if match_type == \"Final (N)\":\n",
    "        j = 1\n",
    "        ses += 1\n",
    "\n",
    "# Convert match_data to DataFrame\n",
    "data = pd.DataFrame(match_data)\n",
    "\n",
    "print(f\"Total matches in DataFrame: {len(data)}\")"
   ]
  },
  {
   "cell_type": "code",
   "execution_count": 14,
   "id": "5c80a8a5-3921-4ea9-a696-98b903aac54c",
   "metadata": {},
   "outputs": [
    {
     "data": {
      "text/plain": [
       "278"
      ]
     },
     "execution_count": 14,
     "metadata": {},
     "output_type": "execute_result"
    }
   ],
   "source": [
    "pd.set_option('display.max_rows', None) \n",
    "pd.reset_option('display.max_rows') \n",
    "len(data) "
   ]
  },
  {
   "cell_type": "code",
   "execution_count": 11,
   "id": "d009e47e-95e9-4be2-94af-7b845ea33a58",
   "metadata": {},
   "outputs": [],
   "source": [
    "data=pd.DataFrame(match_data)"
   ]
  },
  {
   "cell_type": "code",
   "execution_count": 12,
   "id": "99ea052b-bd64-4231-981a-ffda7b9352bd",
   "metadata": {},
   "outputs": [],
   "source": [
    "data.to_csv(\"Season_2021-2024.csv\")"
   ]
  },
  {
   "cell_type": "code",
   "execution_count": null,
   "id": "1e7b40bb-b59b-48a7-99b9-303eae40c6c3",
   "metadata": {},
   "outputs": [],
   "source": []
  }
 ],
 "metadata": {
  "kernelspec": {
   "display_name": "web_scrapping",
   "language": "python",
   "name": "web_scrapping"
  },
  "language_info": {
   "codemirror_mode": {
    "name": "ipython",
    "version": 3
   },
   "file_extension": ".py",
   "mimetype": "text/x-python",
   "name": "python",
   "nbconvert_exporter": "python",
   "pygments_lexer": "ipython3",
   "version": "3.13.1"
  }
 },
 "nbformat": 4,
 "nbformat_minor": 5
}
